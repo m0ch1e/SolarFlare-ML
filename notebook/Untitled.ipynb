{
 "cells": [
  {
   "cell_type": "code",
   "execution_count": 3,
   "id": "519f2087-8bea-49cd-96c4-21b64561b3a1",
   "metadata": {},
   "outputs": [],
   "source": [
    "import pandas as pd"
   ]
  },
  {
   "cell_type": "code",
   "execution_count": 5,
   "id": "2abd5935-c95c-45a7-9e26-1908f0fe823a",
   "metadata": {},
   "outputs": [],
   "source": [
    "import numpy as np"
   ]
  },
  {
   "cell_type": "code",
   "execution_count": null,
   "id": "8e2ba7ac-0a87-4490-9f25-f77cf701489d",
   "metadata": {},
   "outputs": [],
   "source": [
    "import pandas as pd\n",
    "import glob\n",
    "\n",
    "# Get a list of all CSV files in a directory (adjust the path and extension as needed)\n",
    "csv_files = glob.glob('partition1/*.csv')\n",
    "\n",
    "# List to store DataFrames\n",
    "df_list = []\n",
    "\n",
    "# Loop through each CSV file and read it into a DataFrame\n",
    "for file in csv_files:\n",
    "    df = pd.read_csv(file, delimiter='\\t')\n",
    "    df_list.append(df)\n",
    "\n",
    "# Concatenate all DataFrames into one DataFrame\n",
    "combined_df = pd.concat(df_list, ignore_index=True)\n",
    "\n",
    "# Save the combined DataFrame to a new CSV file\n",
    "combined_df.to_csv('combined_output_1.csv', index=False)\n",
    "\n",
    "# Print the first few rows of the combined DataFrame\n",
    "print(combined_df.head())\n"
   ]
  },
  {
   "cell_type": "code",
   "execution_count": null,
   "id": "57d5f757-1dca-445b-b644-8390d428f1c1",
   "metadata": {},
   "outputs": [],
   "source": [
    "import pandas as pd\n",
    "import glob\n",
    "\n",
    "# Get a list of all CSV files in a directory (adjust the path and extension as needed)\n",
    "csv_files = glob.glob('partition2/*.csv')\n",
    "\n",
    "# List to store DataFrames\n",
    "df_list = []\n",
    "\n",
    "# Loop through each CSV file and read it into a DataFrame\n",
    "for file in csv_files:\n",
    "    df = pd.read_csv(file, delimiter='\\t')\n",
    "    df_list.append(df)\n",
    "\n",
    "# Concatenate all DataFrames into one DataFrame\n",
    "combined_df = pd.concat(df_list, ignore_index=True)\n",
    "\n",
    "# Save the combined DataFrame to a new CSV file\n",
    "combined_df.to_csv('combined_output_2.csv', index=False)\n",
    "\n",
    "# Print the first few rows of the combined DataFrame\n",
    "print(combined_df.head())\n"
   ]
  },
  {
   "cell_type": "code",
   "execution_count": null,
   "id": "3aa2d359-10e1-40c1-93eb-4210d724e017",
   "metadata": {},
   "outputs": [],
   "source": [
    "import pandas as pd\n",
    "import glob\n",
    "\n",
    "# Get a list of all CSV files in a directory (adjust the path and extension as needed)\n",
    "csv_files = glob.glob('partition3/*.csv')\n",
    "\n",
    "# List to store DataFrames\n",
    "df_list = []\n",
    "\n",
    "# Loop through each CSV file and read it into a DataFrame\n",
    "for file in csv_files:\n",
    "    df = pd.read_csv(file, delimiter='\\t')\n",
    "    df_list.append(df)\n",
    "\n",
    "# Concatenate all DataFrames into one DataFrame\n",
    "combined_df = pd.concat(df_list, ignore_index=True)\n",
    "\n",
    "# Save the combined DataFrame to a new CSV file\n",
    "combined_df.to_csv('combined_output_3.csv', index=False)\n",
    "\n",
    "# Print the first few rows of the combined DataFrame\n",
    "print(combined_df.head())\n"
   ]
  },
  {
   "cell_type": "code",
   "execution_count": null,
   "id": "4cd878f4-0004-47ed-8f78-b46c3a603927",
   "metadata": {},
   "outputs": [],
   "source": [
    "import pandas as pd\n",
    "import glob\n",
    "\n",
    "# Get a list of all CSV files in a directory (adjust the path and extension as needed)\n",
    "csv_files = glob.glob('partition4/*.csv')\n",
    "\n",
    "# List to store DataFrames\n",
    "df_list = []\n",
    "\n",
    "# Loop through each CSV file and read it into a DataFrame\n",
    "for file in csv_files:\n",
    "    df = pd.read_csv(file, delimiter='\\t')\n",
    "    df_list.append(df)\n",
    "\n",
    "# Concatenate all DataFrames into one DataFrame\n",
    "combined_df = pd.concat(df_list, ignore_index=True)\n",
    "\n",
    "# Save the combined DataFrame to a new CSV file\n",
    "combined_df.to_csv('combined_output_4.csv', index=False)\n",
    "\n",
    "# Print the first few rows of the combined DataFrame\n",
    "print(combined_df.head())\n"
   ]
  },
  {
   "cell_type": "code",
   "execution_count": null,
   "id": "e01ff049-032a-4e71-a7dc-2c633c066222",
   "metadata": {},
   "outputs": [],
   "source": [
    "import pandas as pd\n",
    "import glob\n",
    "\n",
    "# Get a list of all CSV files in a directory (adjust the path and extension as needed)\n",
    "csv_files = glob.glob('partition5/*.csv')\n",
    "\n",
    "# List to store DataFrames\n",
    "df_list = []\n",
    "\n",
    "# Loop through each CSV file and read it into a DataFrame\n",
    "for file in csv_files:\n",
    "    df = pd.read_csv(file, delimiter='\\t')\n",
    "    df_list.append(df)\n",
    "\n",
    "# Concatenate all DataFrames into one DataFrame\n",
    "combined_df = pd.concat(df_list, ignore_index=True)\n",
    "\n",
    "# Save the combined DataFrame to a new CSV file\n",
    "combined_df.to_csv('combined_output_5.csv', index=False)\n",
    "\n",
    "# Print the first few rows of the combined DataFrame\n",
    "print(combined_df.head())\n"
   ]
  },
  {
   "cell_type": "code",
   "execution_count": null,
   "id": "f99f0a93-a9eb-47c1-bfa5-5d211cd32ca4",
   "metadata": {},
   "outputs": [],
   "source": [
    "import csv\n",
    "df1 = pd.read_csv(\"combined_output_1.csv\",delimiter='\\t')\n",
    "df1.to_csv('combined_output_comma1.csv', index=False, quoting=csv.QUOTE_NONE, escapechar='\\\\')\n",
    "\n",
    "#df2 = pd.read_csv(\"combined_output_2.csv\",delimiter='\\t')\n",
    "#df2.to_csv('combined_output_comma2.csv', index=False, quoting=csv.QUOTE_NONE, escapechar='\\\\')\n",
    "##df3 = pd.read_csv(\"combined_output_3.csv\",  delimiter='\\t')\n",
    "#df3.to_csv('combined_output_comma3.csv', index=False, quoting=csv.QUOTE_NONE, escapechar='\\\\')\n",
    "#df4 = pd.read_csv(\"combined_output_4.csv\",  delimiter='\\t')\n",
    "#df4.to_csv('combined_output_comma4.csv', index=False, quoting=csv.QUOTE_NONE, escapechar='\\\\')\n",
    "#df5 = pd.read_csv(\"combined_output_5.csv\",  delimiter='\\t')\n",
    "#df5.to_csv('combined_output_comma15csv', index=False, quoting=csv.QUOTE_NONE, escapechar='\\\\')\n",
    "\n"
   ]
  },
  {
   "cell_type": "code",
   "execution_count": null,
   "id": "684dab5f-b4c5-435a-bc67-ced69795da21",
   "metadata": {},
   "outputs": [],
   "source": [
    "df1 = pd.read_csv(\"combined_output_1.csv\", delimiter = ',')\n",
    "df2 = pd.read_csv(\"combined_output_2.csv\", delimiter = ',')\n",
    "df3 = pd.read_csv(\"combined_output_3.csv\", delimiter = ',')\n",
    "df4 = pd.read_csv(\"combined_output_4.csv\", delimiter = ',')\n",
    "df5 = pd.read_csv(\"combined_output_5.csv\", delimiter = ',')"
   ]
  },
  {
   "cell_type": "code",
   "execution_count": null,
   "id": "f87d079e-ac0f-4fed-b799-0012b8c13c31",
   "metadata": {},
   "outputs": [],
   "source": [
    "print(df1.columns)\n",
    "print(df2.columns)\n",
    "print(df3.columns)\n",
    "print(df4.columns)\n",
    "print(df5.columns)"
   ]
  },
  {
   "cell_type": "code",
   "execution_count": null,
   "id": "7266f81a-f2e6-4bfc-853c-9c6a3b8704e5",
   "metadata": {},
   "outputs": [],
   "source": [
    "value_counts = df1[\"MFLARE\"].value_counts()\n",
    "    # Display the result\n",
    "    #print(col)\n",
    "print(value_counts)"
   ]
  },
  {
   "cell_type": "code",
   "execution_count": null,
   "id": "70ae5ab7-1d30-45c7-bf30-c555566914d5",
   "metadata": {},
   "outputs": [],
   "source": [
    "value_counts = df2[\"MFLARE\"].value_counts()\n",
    "    # Display the result\n",
    "    #print(col)\n",
    "print(value_counts)"
   ]
  },
  {
   "cell_type": "code",
   "execution_count": null,
   "id": "bb352dbb-5771-46ee-957c-a1b8f256dd82",
   "metadata": {},
   "outputs": [],
   "source": [
    "value_counts = df3[\"MFLARE\"].value_counts()\n",
    "    # Display the result\n",
    "    #print(col)\n",
    "print(value_counts)"
   ]
  },
  {
   "cell_type": "code",
   "execution_count": null,
   "id": "10a0137a-b53c-42ec-8f84-3b94404df4a4",
   "metadata": {},
   "outputs": [],
   "source": [
    "value_counts = df4[\"MFLARE\"].value_counts()\n",
    "    # Display the result\n",
    "    #print(col)\n",
    "print(value_counts)"
   ]
  },
  {
   "cell_type": "code",
   "execution_count": null,
   "id": "a11ce20d-8b40-46f7-81dc-3d905241df6c",
   "metadata": {},
   "outputs": [],
   "source": [
    "value_counts = df5[\"MFLARE\"].value_counts()\n",
    "    # Display the result\n",
    "    #print(col)\n",
    "print(value_counts)"
   ]
  },
  {
   "cell_type": "code",
   "execution_count": null,
   "id": "f3e51601-867b-467f-80ed-281f7fa06980",
   "metadata": {},
   "outputs": [],
   "source": [
    "import pandas as pd\n",
    "import glob\n",
    "\n",
    "# Get a list of all CSV files in a directory (adjust the path and extension as needed)\n",
    "csv_files = glob.glob('partition1_5/*.csv')\n",
    "\n",
    "# List to store DataFrames\n",
    "df_list = []\n",
    "\n",
    "# Loop through each CSV file and read it into a DataFrame\n",
    "for file in csv_files:\n",
    "    df = pd.read_csv(file, delimiter=',')\n",
    "    df_list.append(df)\n",
    "\n",
    "# Concatenate all DataFrames into one DataFrame\n",
    "combined_df = pd.concat(df_list, ignore_index=True)\n",
    "\n",
    "# Save the combined DataFrame to a new CSV file\n",
    "combined_df.to_csv('combined_output_1_5.csv', index=False)\n",
    "\n",
    "# Print the first few rows of the combined DataFrame\n",
    "print(combined_df.head())\n"
   ]
  },
  {
   "cell_type": "code",
   "execution_count": 22,
   "id": "ace6a203-181d-4f1e-9e2f-cd3d85a5c9be",
   "metadata": {},
   "outputs": [
    {
     "name": "stderr",
     "output_type": "stream",
     "text": [
      "C:\\Users\\ct_vi\\AppData\\Local\\Temp\\ipykernel_30524\\3023360356.py:3: DtypeWarning: Columns (37,39,41,43,45,47,49,51) have mixed types. Specify dtype option on import or set low_memory=False.\n",
      "  df = pd.read_csv(\"combined_output_1_5.csv\",delimiter=',')\n"
     ]
    },
    {
     "name": "stdout",
     "output_type": "stream",
     "text": [
      "Index(['Timestamp', 'TOTUSJH', 'TOTBSQ', 'TOTPOT', 'TOTUSJZ', 'ABSNJZH',\n",
      "       'SAVNCPP', 'USFLUX', 'TOTFZ', 'MEANPOT', 'EPSZ', 'MEANSHR', 'SHRGT45',\n",
      "       'MEANGAM', 'MEANGBT', 'MEANGBZ', 'MEANGBH', 'MEANJZH', 'TOTFY',\n",
      "       'MEANJZD', 'MEANALP', 'TOTFX', 'EPSY', 'EPSX', 'R_VALUE', 'CRVAL1',\n",
      "       'CRLN_OBS', 'CRLT_OBS', 'CRVAL2', 'HC_ANGLE', 'SPEI', 'LAT_MIN',\n",
      "       'LON_MIN', 'LAT_MAX', 'LON_MAX', 'QUALITY', 'BFLARE', 'BFLARE_LABEL',\n",
      "       'CFLARE', 'CFLARE_LABEL', 'MFLARE', 'MFLARE_LABEL', 'XFLARE',\n",
      "       'XFLARE_LABEL', 'BFLARE_LOC', 'BFLARE_LABEL_LOC', 'CFLARE_LOC',\n",
      "       'CFLARE_LABEL_LOC', 'MFLARE_LOC', 'MFLARE_LABEL_LOC', 'XFLARE_LOC',\n",
      "       'XFLARE_LABEL_LOC', 'XR_MAX', 'XR_QUAL', 'IS_TMFI'],\n",
      "      dtype='object')\n"
     ]
    }
   ],
   "source": [
    "import csv\n",
    "\n",
    "df = pd.read_csv(\"combined_output_1_5.csv\",delimiter=',')\n",
    "print(df.columns)\n",
    "#df.to_csv('combined_output_comma1.csv', index=False, quoting=csv.QUOTE_NONE, escapechar='\\\\')"
   ]
  },
  {
   "cell_type": "code",
   "execution_count": 23,
   "id": "abe4fea7-2099-4af5-a127-e74d1344965f",
   "metadata": {},
   "outputs": [
    {
     "name": "stdout",
     "output_type": "stream",
     "text": [
      "<class 'pandas.core.frame.DataFrame'>\n",
      "RangeIndex: 2879658 entries, 0 to 2879657\n",
      "Data columns (total 55 columns):\n",
      " #   Column            Dtype  \n",
      "---  ------            -----  \n",
      " 0   Timestamp         object \n",
      " 1   TOTUSJH           float64\n",
      " 2   TOTBSQ            float64\n",
      " 3   TOTPOT            float64\n",
      " 4   TOTUSJZ           float64\n",
      " 5   ABSNJZH           float64\n",
      " 6   SAVNCPP           float64\n",
      " 7   USFLUX            float64\n",
      " 8   TOTFZ             float64\n",
      " 9   MEANPOT           float64\n",
      " 10  EPSZ              float64\n",
      " 11  MEANSHR           float64\n",
      " 12  SHRGT45           float64\n",
      " 13  MEANGAM           float64\n",
      " 14  MEANGBT           float64\n",
      " 15  MEANGBZ           float64\n",
      " 16  MEANGBH           float64\n",
      " 17  MEANJZH           float64\n",
      " 18  TOTFY             float64\n",
      " 19  MEANJZD           float64\n",
      " 20  MEANALP           float64\n",
      " 21  TOTFX             float64\n",
      " 22  EPSY              float64\n",
      " 23  EPSX              float64\n",
      " 24  R_VALUE           float64\n",
      " 25  CRVAL1            float64\n",
      " 26  CRLN_OBS          float64\n",
      " 27  CRLT_OBS          float64\n",
      " 28  CRVAL2            float64\n",
      " 29  HC_ANGLE          float64\n",
      " 30  SPEI              bool   \n",
      " 31  LAT_MIN           float64\n",
      " 32  LON_MIN           float64\n",
      " 33  LAT_MAX           float64\n",
      " 34  LON_MAX           float64\n",
      " 35  QUALITY           float64\n",
      " 36  BFLARE            float64\n",
      " 37  BFLARE_LABEL      object \n",
      " 38  CFLARE            float64\n",
      " 39  CFLARE_LABEL      object \n",
      " 40  MFLARE            float64\n",
      " 41  MFLARE_LABEL      object \n",
      " 42  XFLARE            float64\n",
      " 43  XFLARE_LABEL      object \n",
      " 44  BFLARE_LOC        float64\n",
      " 45  BFLARE_LABEL_LOC  object \n",
      " 46  CFLARE_LOC        float64\n",
      " 47  CFLARE_LABEL_LOC  object \n",
      " 48  MFLARE_LOC        float64\n",
      " 49  MFLARE_LABEL_LOC  object \n",
      " 50  XFLARE_LOC        float64\n",
      " 51  XFLARE_LABEL_LOC  object \n",
      " 52  XR_MAX            float64\n",
      " 53  XR_QUAL           int64  \n",
      " 54  IS_TMFI           bool   \n",
      "dtypes: bool(2), float64(43), int64(1), object(9)\n",
      "memory usage: 1.1+ GB\n"
     ]
    }
   ],
   "source": [
    "df.info()"
   ]
  },
  {
   "cell_type": "code",
   "execution_count": 24,
   "id": "a6b3f3c5-3912-46a2-b51a-2102a53b9e06",
   "metadata": {},
   "outputs": [
    {
     "name": "stdout",
     "output_type": "stream",
     "text": [
      "      TOTUSJH        TOTBSQ        TOTPOT       TOTUSJZ    ABSNJZH  \\\n",
      "0  270.853424  3.879569e+09  2.918538e+22  5.777593e+12  30.270086   \n",
      "1  264.298678  3.893645e+09  3.320445e+22  5.654726e+12  12.938717   \n",
      "2  307.571556  4.028219e+09  3.362393e+22  6.488687e+12  11.460021   \n",
      "3  297.073069  4.116519e+09  3.084000e+22  6.193158e+12  17.791219   \n",
      "4  301.562397  4.305776e+09  2.789749e+22  5.797055e+12   3.261995   \n",
      "\n",
      "        SAVNCPP        USFLUX         TOTFZ      MEANPOT      EPSZ  ...  \\\n",
      "0  2.383632e+12  6.510776e+21 -3.465782e+24  2252.122063 -0.672675  ...   \n",
      "1  6.364629e+11  6.521055e+21 -3.376310e+24  2471.580961 -0.652940  ...   \n",
      "2  1.174558e+12  6.917875e+21 -3.602599e+24  2371.522932 -0.673426  ...   \n",
      "3  2.019295e+12  6.973707e+21 -3.709671e+24  2203.027338 -0.678567  ...   \n",
      "4  8.275204e+11  7.228646e+21 -3.884833e+24  1981.178678 -0.679373  ...   \n",
      "\n",
      "     LON_MAX  QUALITY  BFLARE  CFLARE  MFLARE  MFLARE_LABEL  XFLARE  \\\n",
      "0 -74.103981  66560.0     0.0     0.0     0.0           NaN     0.0   \n",
      "1 -73.970650      0.0     0.0     0.0     0.0           NaN     0.0   \n",
      "2 -73.794930      0.0     0.0     0.0     0.0           NaN     0.0   \n",
      "3 -73.670418      0.0     0.0     0.0     0.0           NaN     0.0   \n",
      "4 -73.420265      0.0     0.0     0.0     0.0           NaN     0.0   \n",
      "\n",
      "         XR_MAX  XR_QUAL  IS_TMFI  \n",
      "0  7.014500e-08       12    False  \n",
      "1  7.306500e-08       12    False  \n",
      "2  6.182700e-08       12    False  \n",
      "3  6.952600e-08       12    False  \n",
      "4  7.518900e-08       12    False  \n",
      "\n",
      "[5 rows x 43 columns]\n"
     ]
    }
   ],
   "source": [
    "# Remove multiple columns by specifying their names\n",
    "df.drop(columns=['BFLARE_LABEL', 'CFLARE_LABEL', 'XFLARE_LABEL',\n",
    "                 'BFLARE_LOC', 'CFLARE_LOC', 'XFLARE_LOC', 'MFLARE_LOC',\n",
    "                 'BFLARE_LABEL_LOC', 'CFLARE_LABEL_LOC', 'XFLARE_LABEL_LOC', 'MFLARE_LABEL_LOC','Timestamp'], inplace=True)\n",
    "\n",
    "# Print the DataFrame after removing the columns\n",
    "print(df.head())\n"
   ]
  },
  {
   "cell_type": "code",
   "execution_count": 25,
   "id": "294ac3bc-8f7c-4a97-a1d2-571061b3a17f",
   "metadata": {},
   "outputs": [
    {
     "name": "stdout",
     "output_type": "stream",
     "text": [
      "<class 'pandas.core.frame.DataFrame'>\n",
      "RangeIndex: 2879658 entries, 0 to 2879657\n",
      "Data columns (total 43 columns):\n",
      " #   Column        Dtype  \n",
      "---  ------        -----  \n",
      " 0   TOTUSJH       float64\n",
      " 1   TOTBSQ        float64\n",
      " 2   TOTPOT        float64\n",
      " 3   TOTUSJZ       float64\n",
      " 4   ABSNJZH       float64\n",
      " 5   SAVNCPP       float64\n",
      " 6   USFLUX        float64\n",
      " 7   TOTFZ         float64\n",
      " 8   MEANPOT       float64\n",
      " 9   EPSZ          float64\n",
      " 10  MEANSHR       float64\n",
      " 11  SHRGT45       float64\n",
      " 12  MEANGAM       float64\n",
      " 13  MEANGBT       float64\n",
      " 14  MEANGBZ       float64\n",
      " 15  MEANGBH       float64\n",
      " 16  MEANJZH       float64\n",
      " 17  TOTFY         float64\n",
      " 18  MEANJZD       float64\n",
      " 19  MEANALP       float64\n",
      " 20  TOTFX         float64\n",
      " 21  EPSY          float64\n",
      " 22  EPSX          float64\n",
      " 23  R_VALUE       float64\n",
      " 24  CRVAL1        float64\n",
      " 25  CRLN_OBS      float64\n",
      " 26  CRLT_OBS      float64\n",
      " 27  CRVAL2        float64\n",
      " 28  HC_ANGLE      float64\n",
      " 29  SPEI          bool   \n",
      " 30  LAT_MIN       float64\n",
      " 31  LON_MIN       float64\n",
      " 32  LAT_MAX       float64\n",
      " 33  LON_MAX       float64\n",
      " 34  QUALITY       float64\n",
      " 35  BFLARE        float64\n",
      " 36  CFLARE        float64\n",
      " 37  MFLARE        float64\n",
      " 38  MFLARE_LABEL  object \n",
      " 39  XFLARE        float64\n",
      " 40  XR_MAX        float64\n",
      " 41  XR_QUAL       int64  \n",
      " 42  IS_TMFI       bool   \n",
      "dtypes: bool(2), float64(39), int64(1), object(1)\n",
      "memory usage: 906.3+ MB\n"
     ]
    }
   ],
   "source": [
    "df.info()\n"
   ]
  },
  {
   "cell_type": "code",
   "execution_count": 26,
   "id": "3516da83-800b-466d-8a61-3eb6415d604f",
   "metadata": {},
   "outputs": [
    {
     "data": {
      "text/plain": [
       "TOTUSJH          235091\n",
       "TOTBSQ           235084\n",
       "TOTPOT           235100\n",
       "TOTUSJZ          235091\n",
       "ABSNJZH          235091\n",
       "SAVNCPP          235071\n",
       "USFLUX           235084\n",
       "TOTFZ            235084\n",
       "MEANPOT          269047\n",
       "EPSZ             269031\n",
       "MEANSHR          269047\n",
       "SHRGT45          268240\n",
       "MEANGAM          268890\n",
       "MEANGBT          269044\n",
       "MEANGBZ          269038\n",
       "MEANGBH          269038\n",
       "MEANJZH          269038\n",
       "TOTFY            235084\n",
       "MEANJZD          269038\n",
       "MEANALP          269044\n",
       "TOTFX            235084\n",
       "EPSY             269031\n",
       "EPSX             269031\n",
       "R_VALUE          234581\n",
       "CRVAL1           234293\n",
       "CRLN_OBS         234293\n",
       "CRLT_OBS         234293\n",
       "CRVAL2           234293\n",
       "HC_ANGLE         234293\n",
       "SPEI                  0\n",
       "LAT_MIN          255693\n",
       "LON_MIN          255693\n",
       "LAT_MAX          255693\n",
       "LON_MAX          255693\n",
       "QUALITY          234293\n",
       "BFLARE                0\n",
       "CFLARE                0\n",
       "MFLARE                0\n",
       "MFLARE_LABEL    2878955\n",
       "XFLARE                0\n",
       "XR_MAX                0\n",
       "XR_QUAL               0\n",
       "IS_TMFI               0\n",
       "dtype: int64"
      ]
     },
     "execution_count": 26,
     "metadata": {},
     "output_type": "execute_result"
    }
   ],
   "source": [
    "# Checking for missing values in the dataset\n",
    "df.isnull().sum()"
   ]
  },
  {
   "cell_type": "code",
   "execution_count": 27,
   "id": "47f90672-96d7-49c6-b856-7046f0a0c864",
   "metadata": {},
   "outputs": [
    {
     "name": "stdout",
     "output_type": "stream",
     "text": [
      "Ranked Missing Values:\n",
      "MFLARE_LABEL    2878955\n",
      "MEANSHR          269047\n",
      "MEANPOT          269047\n",
      "MEANGBT          269044\n",
      "MEANALP          269044\n",
      "MEANJZD          269038\n",
      "MEANJZH          269038\n",
      "MEANGBH          269038\n",
      "MEANGBZ          269038\n",
      "EPSX             269031\n",
      "EPSY             269031\n",
      "EPSZ             269031\n",
      "MEANGAM          268890\n",
      "SHRGT45          268240\n",
      "LAT_MIN          255693\n",
      "LON_MIN          255693\n",
      "LAT_MAX          255693\n",
      "LON_MAX          255693\n",
      "TOTPOT           235100\n",
      "TOTUSJH          235091\n",
      "TOTUSJZ          235091\n",
      "ABSNJZH          235091\n",
      "TOTFX            235084\n",
      "TOTFZ            235084\n",
      "TOTBSQ           235084\n",
      "USFLUX           235084\n",
      "TOTFY            235084\n",
      "SAVNCPP          235071\n",
      "R_VALUE          234581\n",
      "CRLT_OBS         234293\n",
      "CRVAL2           234293\n",
      "QUALITY          234293\n",
      "CRVAL1           234293\n",
      "CRLN_OBS         234293\n",
      "HC_ANGLE         234293\n",
      "SPEI                  0\n",
      "BFLARE                0\n",
      "CFLARE                0\n",
      "MFLARE                0\n",
      "XFLARE                0\n",
      "XR_MAX                0\n",
      "XR_QUAL               0\n",
      "IS_TMFI               0\n",
      "dtype: int64\n"
     ]
    }
   ],
   "source": [
    "# Check and rank missing values in descending order\n",
    "missing_values = df.isnull().sum().sort_values(ascending=False)\n",
    "\n",
    "# Display the ranked missing values\n",
    "print(\"Ranked Missing Values:\")\n",
    "print(missing_values)"
   ]
  },
  {
   "cell_type": "code",
   "execution_count": 28,
   "id": "70133c27-0f06-46fc-bbc0-24ced8abcb80",
   "metadata": {},
   "outputs": [
    {
     "name": "stdout",
     "output_type": "stream",
     "text": [
      "DataFrame after removing rows with missing values in 'Name':\n",
      "            TOTUSJH        TOTBSQ        TOTPOT       TOTUSJZ    ABSNJZH  \\\n",
      "0        270.853424  3.879569e+09  2.918538e+22  5.777593e+12  30.270086   \n",
      "1        264.298678  3.893645e+09  3.320445e+22  5.654726e+12  12.938717   \n",
      "2        307.571556  4.028219e+09  3.362393e+22  6.488687e+12  11.460021   \n",
      "3        297.073069  4.116519e+09  3.084000e+22  6.193158e+12  17.791219   \n",
      "4        301.562397  4.305776e+09  2.789749e+22  5.797055e+12   3.261995   \n",
      "...             ...           ...           ...           ...        ...   \n",
      "2879653    2.670209  3.819327e+07  5.601851e+20  9.911235e+10   0.383287   \n",
      "2879654    0.969618  1.650987e+07  1.481853e+20  4.852552e+10   0.212580   \n",
      "2879655    0.714306  8.163235e+06  1.100305e+20  4.027244e+10   0.296776   \n",
      "2879656    0.471510  5.287516e+06  8.117846e+19  1.791149e+10   0.299268   \n",
      "2879657    0.044319  8.287297e+05  1.154099e+17  1.427520e+09   0.044319   \n",
      "\n",
      "              SAVNCPP        USFLUX         TOTFZ      MEANPOT      EPSZ  ...  \\\n",
      "0        2.383632e+12  6.510776e+21 -3.465782e+24  2252.122063 -0.672675  ...   \n",
      "1        6.364629e+11  6.521055e+21 -3.376310e+24  2471.580961 -0.652940  ...   \n",
      "2        1.174558e+12  6.917875e+21 -3.602599e+24  2371.522932 -0.673426  ...   \n",
      "3        2.019295e+12  6.973707e+21 -3.709671e+24  2203.027338 -0.678567  ...   \n",
      "4        8.275204e+11  7.228646e+21 -3.884833e+24  1981.178678 -0.679373  ...   \n",
      "...               ...           ...           ...          ...       ...  ...   \n",
      "2879653  4.386623e+10  1.058569e+20 -3.470295e+22  1874.720913 -0.684175  ...   \n",
      "2879654  1.588518e+11  4.892841e+19 -1.672210e+22  1023.684432 -0.762666  ...   \n",
      "2879655  7.063236e+10  2.714306e+19 -6.999221e+21  1035.644514 -0.645617  ...   \n",
      "2879656  3.741259e+10  1.968686e+19 -4.574962e+21  1131.969240 -0.651513  ...   \n",
      "2879657  5.468013e+09  3.184172e+18 -1.088072e+21    12.414596 -0.988626  ...   \n",
      "\n",
      "           LON_MAX  QUALITY  BFLARE  CFLARE  MFLARE  MFLARE_LABEL  XFLARE  \\\n",
      "0       -74.103981  66560.0     0.0     0.0     0.0           NaN     0.0   \n",
      "1       -73.970650      0.0     0.0     0.0     0.0           NaN     0.0   \n",
      "2       -73.794930      0.0     0.0     0.0     0.0           NaN     0.0   \n",
      "3       -73.670418      0.0     0.0     0.0     0.0           NaN     0.0   \n",
      "4       -73.420265      0.0     0.0     0.0     0.0           NaN     0.0   \n",
      "...            ...      ...     ...     ...     ...           ...     ...   \n",
      "2879653  89.262123    128.0     0.0     0.0     0.0           NaN     0.0   \n",
      "2879654  89.281708    128.0     0.0     0.0     0.0           NaN     0.0   \n",
      "2879655  89.158371    128.0     0.0     0.0     0.0           NaN     0.0   \n",
      "2879656  89.279350    128.0     0.0     0.0     0.0           NaN     0.0   \n",
      "2879657  89.394073    128.0     0.0     0.0     0.0           NaN     0.0   \n",
      "\n",
      "               XR_MAX  XR_QUAL  IS_TMFI  \n",
      "0        7.014500e-08       12    False  \n",
      "1        7.306500e-08       12    False  \n",
      "2        6.182700e-08       12    False  \n",
      "3        6.952600e-08       12    False  \n",
      "4        7.518900e-08       12    False  \n",
      "...               ...      ...      ...  \n",
      "2879653  3.402900e-08       12    False  \n",
      "2879654  3.430000e-08       12    False  \n",
      "2879655  3.828000e-08       12    False  \n",
      "2879656  3.737600e-08       12    False  \n",
      "2879657  6.143700e-08       12    False  \n",
      "\n",
      "[2610611 rows x 43 columns]\n"
     ]
    }
   ],
   "source": [
    "# Remove rows with missing values in the 'Name' column\n",
    "df_cleaned = df.dropna(subset=['MEANSHR'])\n",
    "\n",
    "# Display the cleaned DataFrame\n",
    "print(\"DataFrame after removing rows with missing values in 'Name':\")\n",
    "print(df_cleaned)"
   ]
  },
  {
   "cell_type": "code",
   "execution_count": 29,
   "id": "cdd145f6-4883-49c5-b83b-2a18a1d78d08",
   "metadata": {},
   "outputs": [
    {
     "name": "stdout",
     "output_type": "stream",
     "text": [
      "Ranked Missing Values:\n",
      "MFLARE_LABEL    2609931\n",
      "MEANGAM             649\n",
      "MEANGBT               6\n",
      "MEANALP               6\n",
      "R_VALUE               4\n",
      "TOTUSJH               0\n",
      "CRLN_OBS              0\n",
      "CRLT_OBS              0\n",
      "CRVAL2                0\n",
      "HC_ANGLE              0\n",
      "SPEI                  0\n",
      "LAT_MIN               0\n",
      "LON_MIN               0\n",
      "LAT_MAX               0\n",
      "LON_MAX               0\n",
      "QUALITY               0\n",
      "BFLARE                0\n",
      "CFLARE                0\n",
      "MFLARE                0\n",
      "XFLARE                0\n",
      "XR_MAX                0\n",
      "XR_QUAL               0\n",
      "CRVAL1                0\n",
      "EPSY                  0\n",
      "EPSX                  0\n",
      "EPSZ                  0\n",
      "TOTPOT                0\n",
      "TOTUSJZ               0\n",
      "ABSNJZH               0\n",
      "SAVNCPP               0\n",
      "USFLUX                0\n",
      "TOTFZ                 0\n",
      "MEANPOT               0\n",
      "MEANSHR               0\n",
      "TOTBSQ                0\n",
      "SHRGT45               0\n",
      "MEANGBZ               0\n",
      "MEANGBH               0\n",
      "MEANJZH               0\n",
      "TOTFY                 0\n",
      "MEANJZD               0\n",
      "TOTFX                 0\n",
      "IS_TMFI               0\n",
      "dtype: int64\n"
     ]
    }
   ],
   "source": [
    "missing_values = df_cleaned.isnull().sum().sort_values(ascending=False)\n",
    "\n",
    "# Display the ranked missing values\n",
    "print(\"Ranked Missing Values:\")\n",
    "print(missing_values)"
   ]
  },
  {
   "cell_type": "code",
   "execution_count": 30,
   "id": "d00811b8-d5ea-4616-b836-1025549a8887",
   "metadata": {},
   "outputs": [],
   "source": [
    "import numpy as np\n",
    "\n",
    "col_to_impute = ['MEANGAM', 'MEANALP','MEANGBT', 'R_VALUE']\n",
    "\n",
    "for col in col_to_impute:\n",
    "    average = df_cleaned[col].astype(\"float\").mean(axis=0)\n",
    "    df_cleaned.loc[:,col] = df_cleaned[col].replace(np.nan, average)\n"
   ]
  },
  {
   "cell_type": "code",
   "execution_count": 31,
   "id": "b87952ab-c1ca-4244-8b45-9c8e42583733",
   "metadata": {},
   "outputs": [
    {
     "name": "stdout",
     "output_type": "stream",
     "text": [
      "Ranked Missing Values:\n",
      "MFLARE_LABEL    2609931\n",
      "TOTUSJH               0\n",
      "LAT_MAX               0\n",
      "CRVAL1                0\n",
      "CRLN_OBS              0\n",
      "CRLT_OBS              0\n",
      "CRVAL2                0\n",
      "HC_ANGLE              0\n",
      "SPEI                  0\n",
      "LAT_MIN               0\n",
      "LON_MIN               0\n",
      "LON_MAX               0\n",
      "EPSX                  0\n",
      "QUALITY               0\n",
      "BFLARE                0\n",
      "CFLARE                0\n",
      "MFLARE                0\n",
      "XFLARE                0\n",
      "XR_MAX                0\n",
      "XR_QUAL               0\n",
      "R_VALUE               0\n",
      "EPSY                  0\n",
      "TOTBSQ                0\n",
      "MEANSHR               0\n",
      "TOTPOT                0\n",
      "TOTUSJZ               0\n",
      "ABSNJZH               0\n",
      "SAVNCPP               0\n",
      "USFLUX                0\n",
      "TOTFZ                 0\n",
      "MEANPOT               0\n",
      "EPSZ                  0\n",
      "SHRGT45               0\n",
      "TOTFX                 0\n",
      "MEANGAM               0\n",
      "MEANGBT               0\n",
      "MEANGBZ               0\n",
      "MEANGBH               0\n",
      "MEANJZH               0\n",
      "TOTFY                 0\n",
      "MEANJZD               0\n",
      "MEANALP               0\n",
      "IS_TMFI               0\n",
      "dtype: int64\n"
     ]
    }
   ],
   "source": [
    "missing_values = df_cleaned.isnull().sum().sort_values(ascending=False)\n",
    "\n",
    "# Display the ranked missing values\n",
    "print(\"Ranked Missing Values:\")\n",
    "print(missing_values)"
   ]
  },
  {
   "cell_type": "code",
   "execution_count": 32,
   "id": "c9368b0b-5fad-43f3-8274-89adb508bee5",
   "metadata": {},
   "outputs": [
    {
     "name": "stdout",
     "output_type": "stream",
     "text": [
      "<class 'pandas.core.frame.DataFrame'>\n",
      "Index: 2610611 entries, 0 to 2879657\n",
      "Data columns (total 43 columns):\n",
      " #   Column        Dtype  \n",
      "---  ------        -----  \n",
      " 0   TOTUSJH       float64\n",
      " 1   TOTBSQ        float64\n",
      " 2   TOTPOT        float64\n",
      " 3   TOTUSJZ       float64\n",
      " 4   ABSNJZH       float64\n",
      " 5   SAVNCPP       float64\n",
      " 6   USFLUX        float64\n",
      " 7   TOTFZ         float64\n",
      " 8   MEANPOT       float64\n",
      " 9   EPSZ          float64\n",
      " 10  MEANSHR       float64\n",
      " 11  SHRGT45       float64\n",
      " 12  MEANGAM       float64\n",
      " 13  MEANGBT       float64\n",
      " 14  MEANGBZ       float64\n",
      " 15  MEANGBH       float64\n",
      " 16  MEANJZH       float64\n",
      " 17  TOTFY         float64\n",
      " 18  MEANJZD       float64\n",
      " 19  MEANALP       float64\n",
      " 20  TOTFX         float64\n",
      " 21  EPSY          float64\n",
      " 22  EPSX          float64\n",
      " 23  R_VALUE       float64\n",
      " 24  CRVAL1        float64\n",
      " 25  CRLN_OBS      float64\n",
      " 26  CRLT_OBS      float64\n",
      " 27  CRVAL2        float64\n",
      " 28  HC_ANGLE      float64\n",
      " 29  SPEI          bool   \n",
      " 30  LAT_MIN       float64\n",
      " 31  LON_MIN       float64\n",
      " 32  LAT_MAX       float64\n",
      " 33  LON_MAX       float64\n",
      " 34  QUALITY       float64\n",
      " 35  BFLARE        float64\n",
      " 36  CFLARE        float64\n",
      " 37  MFLARE        float64\n",
      " 38  MFLARE_LABEL  object \n",
      " 39  XFLARE        float64\n",
      " 40  XR_MAX        float64\n",
      " 41  XR_QUAL       int64  \n",
      " 42  IS_TMFI       bool   \n",
      "dtypes: bool(2), float64(39), int64(1), object(1)\n",
      "memory usage: 841.5+ MB\n"
     ]
    }
   ],
   "source": [
    "df_cleaned.info()"
   ]
  },
  {
   "cell_type": "code",
   "execution_count": 33,
   "id": "36cdab5f-32f9-426e-b763-b02b73d4cac1",
   "metadata": {},
   "outputs": [
    {
     "name": "stderr",
     "output_type": "stream",
     "text": [
      "C:\\Users\\ct_vi\\AppData\\Local\\Temp\\ipykernel_30524\\2342721581.py:5: DtypeWarning: Columns (38) have mixed types. Specify dtype option on import or set low_memory=False.\n",
      "  df_cleaned = pd.read_csv('df_cleaned.csv')\n"
     ]
    },
    {
     "name": "stdout",
     "output_type": "stream",
     "text": [
      "      TOTUSJH        TOTBSQ        TOTPOT       TOTUSJZ    ABSNJZH  \\\n",
      "0  270.853424  3.879569e+09  2.918538e+22  5.777593e+12  30.270086   \n",
      "1  264.298678  3.893645e+09  3.320445e+22  5.654726e+12  12.938717   \n",
      "2  307.571556  4.028219e+09  3.362393e+22  6.488687e+12  11.460021   \n",
      "3  297.073069  4.116519e+09  3.084000e+22  6.193158e+12  17.791219   \n",
      "4  301.562397  4.305776e+09  2.789749e+22  5.797055e+12   3.261995   \n",
      "\n",
      "        SAVNCPP        USFLUX         TOTFZ      MEANPOT      EPSZ  ...  \\\n",
      "0  2.383632e+12  6.510776e+21 -3.465782e+24  2252.122063 -0.672675  ...   \n",
      "1  6.364629e+11  6.521055e+21 -3.376310e+24  2471.580961 -0.652940  ...   \n",
      "2  1.174558e+12  6.917875e+21 -3.602599e+24  2371.522932 -0.673426  ...   \n",
      "3  2.019295e+12  6.973707e+21 -3.709671e+24  2203.027338 -0.678567  ...   \n",
      "4  8.275204e+11  7.228646e+21 -3.884833e+24  1981.178678 -0.679373  ...   \n",
      "\n",
      "     LON_MAX  QUALITY  BFLARE  CFLARE  MFLARE  MFLARE_LABEL  XFLARE  \\\n",
      "0 -74.103981  66560.0     0.0     0.0     0.0           NaN     0.0   \n",
      "1 -73.970650      0.0     0.0     0.0     0.0           NaN     0.0   \n",
      "2 -73.794930      0.0     0.0     0.0     0.0           NaN     0.0   \n",
      "3 -73.670418      0.0     0.0     0.0     0.0           NaN     0.0   \n",
      "4 -73.420265      0.0     0.0     0.0     0.0           NaN     0.0   \n",
      "\n",
      "         XR_MAX  XR_QUAL  IS_TMFI  \n",
      "0  7.014500e-08       12    False  \n",
      "1  7.306500e-08       12    False  \n",
      "2  6.182700e-08       12    False  \n",
      "3  6.952600e-08       12    False  \n",
      "4  7.518900e-08       12    False  \n",
      "\n",
      "[5 rows x 43 columns]\n"
     ]
    }
   ],
   "source": [
    "# Save the filtered DataFrame to a CSV file\n",
    "#df_cleaned.to_csv('df_cleaned.csv', index=False) # when necessary\n",
    "\n",
    "# Verify by reading the saved CSV file (optional)\n",
    "df_cleaned = pd.read_csv('df_cleaned.csv')\n",
    "print(df_cleaned.head())"
   ]
  },
  {
   "cell_type": "code",
   "execution_count": 34,
   "id": "185d42bf-679b-4337-8e89-c8a9e899e0ed",
   "metadata": {},
   "outputs": [],
   "source": [
    "def extract_magnitude(json_str):\n",
    "    try:\n",
    "        return json.loads(json_str).get('magnitude', None)  # Return None if 'magnitude' key is missing\n",
    "    except (json.JSONDecodeError, TypeError):\n",
    "        return None  # Handle malformed JSON\n",
    "\n",
    "df_cld_cpy = df_cleaned.copy()\n",
    "\n",
    "# Apply the function using .loc to avoid the warning\n",
    "df_cld_cpy.loc[:, 'magnitude'] = df_cld_cpy['MFLARE_LABEL'].apply(extract_magnitude)"
   ]
  },
  {
   "cell_type": "code",
   "execution_count": 35,
   "id": "a0abf097-ded9-4d2b-82d2-cb665505a383",
   "metadata": {},
   "outputs": [
    {
     "data": {
      "text/plain": [
       "0          None\n",
       "1          None\n",
       "2          None\n",
       "3          None\n",
       "4          None\n",
       "           ... \n",
       "2610606    None\n",
       "2610607    None\n",
       "2610608    None\n",
       "2610609    None\n",
       "2610610    None\n",
       "Name: magnitude, Length: 2610611, dtype: object"
      ]
     },
     "execution_count": 35,
     "metadata": {},
     "output_type": "execute_result"
    }
   ],
   "source": [
    "df_cld_cpy[\"magnitude\"]"
   ]
  },
  {
   "cell_type": "code",
   "execution_count": 36,
   "id": "2b4e4ed8-9aaa-429d-94c1-676c4da52b40",
   "metadata": {},
   "outputs": [],
   "source": [
    "# Get value counts for the 'magnitude' column\n",
    "#magnitude_counts = df_cld_cpy[\"magnitude\"].value_counts()\n",
    "\n",
    "# Save the value counts to a CSV file\n",
    "#magnitude_counts.to_csv('magnitude_counts.csv', header=True)\n"
   ]
  },
  {
   "cell_type": "code",
   "execution_count": 37,
   "id": "ff5f53dc-2537-44a1-a096-0a6146e098de",
   "metadata": {},
   "outputs": [
    {
     "data": {
      "text/plain": [
       "Index(['TOTUSJH', 'TOTBSQ', 'TOTPOT', 'TOTUSJZ', 'ABSNJZH', 'SAVNCPP',\n",
       "       'USFLUX', 'TOTFZ', 'MEANPOT', 'EPSZ', 'MEANSHR', 'SHRGT45', 'MEANGAM',\n",
       "       'MEANGBT', 'MEANGBZ', 'MEANGBH', 'MEANJZH', 'TOTFY', 'MEANJZD',\n",
       "       'MEANALP', 'TOTFX', 'EPSY', 'EPSX', 'R_VALUE', 'CRVAL1', 'CRLN_OBS',\n",
       "       'CRLT_OBS', 'CRVAL2', 'HC_ANGLE', 'SPEI', 'LAT_MIN', 'LON_MIN',\n",
       "       'LAT_MAX', 'LON_MAX', 'QUALITY', 'BFLARE', 'CFLARE', 'MFLARE',\n",
       "       'MFLARE_LABEL', 'XFLARE', 'XR_MAX', 'XR_QUAL', 'IS_TMFI', 'magnitude'],\n",
       "      dtype='object')"
      ]
     },
     "execution_count": 37,
     "metadata": {},
     "output_type": "execute_result"
    }
   ],
   "source": [
    "df_cld_cpy.columns\n"
   ]
  },
  {
   "cell_type": "markdown",
   "id": "3a7541f2-012d-43f6-a0b8-02105a24dd88",
   "metadata": {},
   "source": [
    "<h2>Convert Flare Labels to One(1) Categorical Column</h2>"
   ]
  },
  {
   "cell_type": "markdown",
   "id": "429f9966-ab50-4a0c-b8b5-148247369b20",
   "metadata": {},
   "source": [
    "<h3>Convert dtype to int</h3>\n",
    "<p>-----------</p>"
   ]
  },
  {
   "cell_type": "code",
   "execution_count": 40,
   "id": "2433ed59-0c9a-4d0e-b35e-0c114f69e4f2",
   "metadata": {},
   "outputs": [],
   "source": [
    "# Convert multiple columns to int\n",
    "cols_to_convert = ['BFLARE', 'CFLARE', 'MFLARE','XFLARE']\n",
    "df_cleaned[cols_to_convert] = df_cleaned[cols_to_convert].astype(int)"
   ]
  },
  {
   "cell_type": "code",
   "execution_count": 41,
   "id": "fd7f8230-057b-41f0-a3f5-fa1c0ccc5363",
   "metadata": {},
   "outputs": [
    {
     "name": "stdout",
     "output_type": "stream",
     "text": [
      "<class 'pandas.core.frame.DataFrame'>\n",
      "RangeIndex: 2610611 entries, 0 to 2610610\n",
      "Data columns (total 43 columns):\n",
      " #   Column        Dtype  \n",
      "---  ------        -----  \n",
      " 0   TOTUSJH       float64\n",
      " 1   TOTBSQ        float64\n",
      " 2   TOTPOT        float64\n",
      " 3   TOTUSJZ       float64\n",
      " 4   ABSNJZH       float64\n",
      " 5   SAVNCPP       float64\n",
      " 6   USFLUX        float64\n",
      " 7   TOTFZ         float64\n",
      " 8   MEANPOT       float64\n",
      " 9   EPSZ          float64\n",
      " 10  MEANSHR       float64\n",
      " 11  SHRGT45       float64\n",
      " 12  MEANGAM       float64\n",
      " 13  MEANGBT       float64\n",
      " 14  MEANGBZ       float64\n",
      " 15  MEANGBH       float64\n",
      " 16  MEANJZH       float64\n",
      " 17  TOTFY         float64\n",
      " 18  MEANJZD       float64\n",
      " 19  MEANALP       float64\n",
      " 20  TOTFX         float64\n",
      " 21  EPSY          float64\n",
      " 22  EPSX          float64\n",
      " 23  R_VALUE       float64\n",
      " 24  CRVAL1        float64\n",
      " 25  CRLN_OBS      float64\n",
      " 26  CRLT_OBS      float64\n",
      " 27  CRVAL2        float64\n",
      " 28  HC_ANGLE      float64\n",
      " 29  SPEI          bool   \n",
      " 30  LAT_MIN       float64\n",
      " 31  LON_MIN       float64\n",
      " 32  LAT_MAX       float64\n",
      " 33  LON_MAX       float64\n",
      " 34  QUALITY       float64\n",
      " 35  BFLARE        int32  \n",
      " 36  CFLARE        int32  \n",
      " 37  MFLARE        int32  \n",
      " 38  MFLARE_LABEL  object \n",
      " 39  XFLARE        int32  \n",
      " 40  XR_MAX        float64\n",
      " 41  XR_QUAL       int64  \n",
      " 42  IS_TMFI       bool   \n",
      "dtypes: bool(2), float64(35), int32(4), int64(1), object(1)\n",
      "memory usage: 781.8+ MB\n"
     ]
    }
   ],
   "source": [
    "df_cleaned.info()"
   ]
  },
  {
   "cell_type": "markdown",
   "id": "a0e95d3f-aa7e-4f2e-b1c3-4ceac42efd9b",
   "metadata": {},
   "source": [
    "<h3>Assign C to CFlare</h3>\n",
    "<p>Convert values greater than 1 (>1) in CFlare Column as C and empty the cell of cells having zero (0) in Cflare Column</p>"
   ]
  },
  {
   "cell_type": "code",
   "execution_count": 7,
   "id": "acbe774a-228c-498f-8271-5a4c328b2397",
   "metadata": {},
   "outputs": [
    {
     "name": "stderr",
     "output_type": "stream",
     "text": [
      "C:\\Users\\ct_vi\\AppData\\Local\\Temp\\ipykernel_21832\\3906942827.py:1: DtypeWarning: Columns (38) have mixed types. Specify dtype option on import or set low_memory=False.\n",
      "  df_cleaned = pd.read_csv('df_cleaned.csv')\n"
     ]
    },
    {
     "name": "stdout",
     "output_type": "stream",
     "text": [
      "      TOTUSJH        TOTBSQ        TOTPOT       TOTUSJZ    ABSNJZH  \\\n",
      "0  270.853424  3.879569e+09  2.918538e+22  5.777593e+12  30.270086   \n",
      "1  264.298678  3.893645e+09  3.320445e+22  5.654726e+12  12.938717   \n",
      "2  307.571556  4.028219e+09  3.362393e+22  6.488687e+12  11.460021   \n",
      "3  297.073069  4.116519e+09  3.084000e+22  6.193158e+12  17.791219   \n",
      "4  301.562397  4.305776e+09  2.789749e+22  5.797055e+12   3.261995   \n",
      "\n",
      "        SAVNCPP        USFLUX         TOTFZ      MEANPOT      EPSZ  ...  \\\n",
      "0  2.383632e+12  6.510776e+21 -3.465782e+24  2252.122063 -0.672675  ...   \n",
      "1  6.364629e+11  6.521055e+21 -3.376310e+24  2471.580961 -0.652940  ...   \n",
      "2  1.174558e+12  6.917875e+21 -3.602599e+24  2371.522932 -0.673426  ...   \n",
      "3  2.019295e+12  6.973707e+21 -3.709671e+24  2203.027338 -0.678567  ...   \n",
      "4  8.275204e+11  7.228646e+21 -3.884833e+24  1981.178678 -0.679373  ...   \n",
      "\n",
      "     LON_MAX  QUALITY  BFLARE  CFLARE  MFLARE  MFLARE_LABEL  XFLARE  \\\n",
      "0 -74.103981  66560.0     0.0     0.0     0.0           NaN     0.0   \n",
      "1 -73.970650      0.0     0.0     0.0     0.0           NaN     0.0   \n",
      "2 -73.794930      0.0     0.0     0.0     0.0           NaN     0.0   \n",
      "3 -73.670418      0.0     0.0     0.0     0.0           NaN     0.0   \n",
      "4 -73.420265      0.0     0.0     0.0     0.0           NaN     0.0   \n",
      "\n",
      "         XR_MAX  XR_QUAL  IS_TMFI  \n",
      "0  7.014500e-08       12    False  \n",
      "1  7.306500e-08       12    False  \n",
      "2  6.182700e-08       12    False  \n",
      "3  6.952600e-08       12    False  \n",
      "4  7.518900e-08       12    False  \n",
      "\n",
      "[5 rows x 43 columns]\n"
     ]
    }
   ],
   "source": [
    "df_cleaned = pd.read_csv('df_cleaned.csv')\n",
    "print(df_cleaned.head())"
   ]
  },
  {
   "cell_type": "code",
   "execution_count": 8,
   "id": "05affce5-f424-44fe-abc6-c59c44474b91",
   "metadata": {},
   "outputs": [
    {
     "name": "stderr",
     "output_type": "stream",
     "text": [
      "C:\\Users\\ct_vi\\AppData\\Local\\Temp\\ipykernel_21832\\1163128699.py:8: FutureWarning: Setting an item of incompatible dtype is deprecated and will raise an error in a future version of pandas. Value 'C' has dtype incompatible with float64, please explicitly cast to a compatible dtype first.\n",
      "  df_cleaned.loc[df_cleaned['CFLARE'] >= 1, 'CFLARE'] = 'C'  # Set values > 1 to 'C'\n"
     ]
    },
    {
     "name": "stdout",
     "output_type": "stream",
     "text": [
      "CFLARE\n",
      "C    6719\n",
      "Name: count, dtype: int64\n"
     ]
    }
   ],
   "source": [
    "# First, convert 'CFLARE' to object type to allow mixing strings and numbers\n",
    "#df_cleaned.loc[:, 'CFLARE'] = df_cleaned['CFLARE'].astype('object')\n",
    "\n",
    "# Convert 'CFLARE' to numeric, coercing errors to NaN (this step is safe now that it's 'object')\n",
    "#df_cleaned.loc[:, 'CFLARE'] = pd.to_numeric(df_cleaned['CFLARE'], errors='coerce')\n",
    "\n",
    "# Apply the transformation\n",
    "df_cleaned.loc[df_cleaned['CFLARE'] >= 1, 'CFLARE'] = 'C'  # Set values > 1 to 'C'\n",
    "df_cleaned.loc[df_cleaned['CFLARE'] == 0, 'CFLARE'] = np.nan  # Empty cells with value 0\n",
    "\n",
    "# Verify the result\n",
    "print(df_cleaned['CFLARE'].value_counts())  # Check if the transformation was applied correctly\n",
    "\n",
    "# Save the 'FLARE_CLASS' column to a CSV file\n",
    "df_cleaned[['CFLARE']].to_csv('CFLARE_col_C.csv', index=False)\n"
   ]
  },
  {
   "cell_type": "markdown",
   "id": "21ac1885-eef6-4265-baf0-99a00287aa1d",
   "metadata": {},
   "source": [
    "<h3>Assign B to BFlare</h3>\n",
    "<p>Convert values greater than 1 (>1) in BFlare Column as C and empty the cell of cells having zero (0) in Bflare Column</p>"
   ]
  },
  {
   "cell_type": "code",
   "execution_count": 10,
   "id": "bc45998a-5a40-4ba0-9b0e-c605da34552c",
   "metadata": {},
   "outputs": [
    {
     "name": "stderr",
     "output_type": "stream",
     "text": [
      "C:\\Users\\ct_vi\\AppData\\Local\\Temp\\ipykernel_21832\\4114306941.py:2: FutureWarning: Setting an item of incompatible dtype is deprecated and will raise an error in a future version of pandas. Value 'B' has dtype incompatible with float64, please explicitly cast to a compatible dtype first.\n",
      "  df_cleaned.loc[df_cleaned['BFLARE'] >= 1, 'BFLARE'] = 'B'  # Set values > 1 to 'C'\n"
     ]
    },
    {
     "name": "stdout",
     "output_type": "stream",
     "text": [
      "BFLARE\n",
      "B    4467\n",
      "Name: count, dtype: int64\n"
     ]
    }
   ],
   "source": [
    "\n",
    "# Apply the transformation\n",
    "df_cleaned.loc[df_cleaned['BFLARE'] >= 1, 'BFLARE'] = 'B'  # Set values > 1 to 'C'\n",
    "df_cleaned.loc[df_cleaned['BFLARE'] == 0, 'BFLARE'] = np.nan  # Empty cells with value 0\n",
    "\n",
    "# Verify the result\n",
    "print(df_cleaned['BFLARE'].value_counts())  # Check if the transformation was applied correctly\n",
    "\n",
    "# Save the 'FLARE_CLASS' column to a CSV file\n",
    "df_cleaned[['BFLARE']].to_csv('BFLARE_col_B.csv', index=False)"
   ]
  },
  {
   "cell_type": "markdown",
   "id": "3c432753-6460-4ca5-9e8c-88336bfd144f",
   "metadata": {},
   "source": [
    "<h3>Assign M to MFlare</h3>\n",
    "<p>Convert values greater than 1 (>1) in MFlare Column as C and empty the cell of cells having zero (0) in Mflare Column</p>"
   ]
  },
  {
   "cell_type": "code",
   "execution_count": 12,
   "id": "2b67ebd0-6585-44a8-b4ab-96193609515a",
   "metadata": {},
   "outputs": [
    {
     "name": "stderr",
     "output_type": "stream",
     "text": [
      "C:\\Users\\ct_vi\\AppData\\Local\\Temp\\ipykernel_21832\\3446645474.py:2: FutureWarning: Setting an item of incompatible dtype is deprecated and will raise an error in a future version of pandas. Value 'M' has dtype incompatible with float64, please explicitly cast to a compatible dtype first.\n",
      "  df_cleaned.loc[df_cleaned['MFLARE'] >= 1, 'MFLARE'] = 'M'  # Set values > 1 to 'C'\n"
     ]
    },
    {
     "name": "stdout",
     "output_type": "stream",
     "text": [
      "MFLARE\n",
      "M    680\n",
      "Name: count, dtype: int64\n"
     ]
    }
   ],
   "source": [
    "\n",
    "# Apply the transformation\n",
    "df_cleaned.loc[df_cleaned['MFLARE'] >= 1, 'MFLARE'] = 'M'  # Set values > 1 to 'C'\n",
    "df_cleaned.loc[df_cleaned['MFLARE'] == 0, 'MFLARE'] = np.nan  # Empty cells with value 0\n",
    "\n",
    "# Verify the result\n",
    "print(df_cleaned['MFLARE'].value_counts())  # Check if the transformation was applied correctly\n",
    "\n",
    "# Save the 'FLARE_CLASS' column to a CSV file\n",
    "df_cleaned[['MFLARE']].to_csv('MFLARE_col_M.csv', index=False)\n",
    "\n"
   ]
  },
  {
   "cell_type": "markdown",
   "id": "e83fb63b-db95-4a7a-8e63-0c9a64c55143",
   "metadata": {},
   "source": [
    "<h3>Assign X to XFlare</h3>\n",
    "<p>Convert values greater than 1 (>1) in XFlare Column as C and empty the cell of cells having zero (0) in Xflare Column</p>"
   ]
  },
  {
   "cell_type": "code",
   "execution_count": 14,
   "id": "0e660fee-4c86-4a7e-901c-de3a24956f6c",
   "metadata": {},
   "outputs": [
    {
     "name": "stderr",
     "output_type": "stream",
     "text": [
      "C:\\Users\\ct_vi\\AppData\\Local\\Temp\\ipykernel_21832\\3950790008.py:2: FutureWarning: Setting an item of incompatible dtype is deprecated and will raise an error in a future version of pandas. Value 'X' has dtype incompatible with float64, please explicitly cast to a compatible dtype first.\n",
      "  df_cleaned.loc[df_cleaned['XFLARE'] >= 1, 'XFLARE'] = 'X'  # Set values > 1 to 'C'\n"
     ]
    },
    {
     "name": "stdout",
     "output_type": "stream",
     "text": [
      "XFLARE\n",
      "X    47\n",
      "Name: count, dtype: int64\n"
     ]
    }
   ],
   "source": [
    "\n",
    "# Apply the transformation\n",
    "df_cleaned.loc[df_cleaned['XFLARE'] >= 1, 'XFLARE'] = 'X'  # Set values > 1 to 'C'\n",
    "df_cleaned.loc[df_cleaned['XFLARE'] == 0, 'XFLARE'] = np.nan  # Empty cells with value 0\n",
    "\n",
    "# Verify the result\n",
    "print(df_cleaned['XFLARE'].value_counts())  # Check if the transformation was applied correctly\n",
    "\n",
    "# Save the 'FLARE_CLASS' column to a CSV file\n",
    "df_cleaned[['XFLARE']].to_csv('XFLARE_col_X.csv', index=False)"
   ]
  },
  {
   "cell_type": "code",
   "execution_count": 15,
   "id": "3eb45f60-a71d-4297-8a3c-05b2356c8a82",
   "metadata": {},
   "outputs": [
    {
     "name": "stdout",
     "output_type": "stream",
     "text": [
      "<class 'pandas.core.frame.DataFrame'>\n",
      "RangeIndex: 2610611 entries, 0 to 2610610\n",
      "Data columns (total 43 columns):\n",
      " #   Column        Dtype  \n",
      "---  ------        -----  \n",
      " 0   TOTUSJH       float64\n",
      " 1   TOTBSQ        float64\n",
      " 2   TOTPOT        float64\n",
      " 3   TOTUSJZ       float64\n",
      " 4   ABSNJZH       float64\n",
      " 5   SAVNCPP       float64\n",
      " 6   USFLUX        float64\n",
      " 7   TOTFZ         float64\n",
      " 8   MEANPOT       float64\n",
      " 9   EPSZ          float64\n",
      " 10  MEANSHR       float64\n",
      " 11  SHRGT45       float64\n",
      " 12  MEANGAM       float64\n",
      " 13  MEANGBT       float64\n",
      " 14  MEANGBZ       float64\n",
      " 15  MEANGBH       float64\n",
      " 16  MEANJZH       float64\n",
      " 17  TOTFY         float64\n",
      " 18  MEANJZD       float64\n",
      " 19  MEANALP       float64\n",
      " 20  TOTFX         float64\n",
      " 21  EPSY          float64\n",
      " 22  EPSX          float64\n",
      " 23  R_VALUE       float64\n",
      " 24  CRVAL1        float64\n",
      " 25  CRLN_OBS      float64\n",
      " 26  CRLT_OBS      float64\n",
      " 27  CRVAL2        float64\n",
      " 28  HC_ANGLE      float64\n",
      " 29  SPEI          bool   \n",
      " 30  LAT_MIN       float64\n",
      " 31  LON_MIN       float64\n",
      " 32  LAT_MAX       float64\n",
      " 33  LON_MAX       float64\n",
      " 34  QUALITY       float64\n",
      " 35  BFLARE        object \n",
      " 36  CFLARE        object \n",
      " 37  MFLARE        object \n",
      " 38  MFLARE_LABEL  object \n",
      " 39  XFLARE        object \n",
      " 40  XR_MAX        float64\n",
      " 41  XR_QUAL       int64  \n",
      " 42  IS_TMFI       bool   \n",
      "dtypes: bool(2), float64(35), int64(1), object(5)\n",
      "memory usage: 821.6+ MB\n"
     ]
    }
   ],
   "source": [
    "df_cleaned.info()"
   ]
  },
  {
   "cell_type": "code",
   "execution_count": null,
   "id": "c1c4e97f-5b88-4654-863f-7d83102649d9",
   "metadata": {},
   "outputs": [],
   "source": [
    "# Combine multiple columns into a single column while retaining row values\n",
    "df_cleaned.loc[:,'FLARE_CLASS'] = df_cleaned[['BFLARE', 'CFLARE', 'MFLARE', 'XFLARE']].apply(lambda row: ''.join(row.astype(str)), axis=1)\n",
    "\n",
    "# Verify the result\n",
    "print(df_cleaned[['BFLARE', 'CFLARE', 'MFLARE', 'XFLARE', 'FLARE_CLASS']].head())\n"
   ]
  },
  {
   "cell_type": "code",
   "execution_count": null,
   "id": "dbe119c3-90ef-42f4-8b1e-28c6c349fc22",
   "metadata": {},
   "outputs": [],
   "source": [
    "print(df_cleaned['FLARE_CLASS'].value_counts())"
   ]
  },
  {
   "cell_type": "code",
   "execution_count": null,
   "id": "95751fd8-fd61-4942-836c-c24281264eca",
   "metadata": {},
   "outputs": [],
   "source": [
    "# Save the 'FLARE_CLASS' column to a CSV file\n",
    "df_cleaned[['FLARE_CLASS']].to_csv('flare_class_column.csv', index=False)\n",
    "\n",
    "# Verify by reading the saved CSV file (optional)\n",
    "saved_df = pd.read_csv('flare_class_column.csv')\n",
    "print(saved_df.head())"
   ]
  },
  {
   "cell_type": "code",
   "execution_count": null,
   "id": "964ad8d6-9d30-4991-a39b-95feacc37081",
   "metadata": {},
   "outputs": [],
   "source": [
    "saved_df['FLARE_CLASS'].unique()"
   ]
  },
  {
   "cell_type": "code",
   "execution_count": null,
   "id": "fee6d7ba-3e20-4f92-b2e9-c0d50bd0e171",
   "metadata": {},
   "outputs": [],
   "source": [
    "# Find rows where 'FLARE_CLASS' is either 'B C' or 'C M'\n",
    "filtered_df = saved_df[saved_df['FLARE_CLASS'].isin([' C  ', ' C M '])]\n",
    "\n",
    "# Display the filtered rows\n",
    "print(filtered_df)\n"
   ]
  },
  {
   "cell_type": "code",
   "execution_count": 23,
   "id": "36e883f0-7fd7-4199-8aa4-203ea1d9d607",
   "metadata": {},
   "outputs": [
    {
     "name": "stdout",
     "output_type": "stream",
     "text": [
      "Rows where both columns have values:\n",
      "             TOTUSJH        TOTBSQ        TOTPOT       TOTUSJZ     ABSNJZH  \\\n",
      "844877   1794.179679  1.732151e+10  2.431315e+23  3.500549e+13  468.261960   \n",
      "2001386  2583.957639  3.302222e+10  4.176975e+23  5.445159e+13  314.550407   \n",
      "2104383  1110.293031  1.257635e+10  1.762102e+23  2.188145e+13   34.126252   \n",
      "\n",
      "              SAVNCPP        USFLUX         TOTFZ      MEANPOT      EPSZ  ...  \\\n",
      "844877   2.090515e+13  1.780971e+22 -6.702951e+24  6736.884919 -0.291385  ...   \n",
      "2001386  1.019954e+13  4.335224e+22 -1.791222e+25  4555.298770 -0.408442  ...   \n",
      "2104383  3.228763e+12  1.273982e+22 -5.297056e+24  7045.664382 -0.317152  ...   \n",
      "\n",
      "         QUALITY  BFLARE  CFLARE  MFLARE  MFLARE_LABEL  XFLARE        XR_MAX  \\\n",
      "844877       0.0       B       C     NaN           NaN     NaN  8.675000e-07   \n",
      "2001386      0.0       B       C     NaN           NaN     NaN  1.030200e-06   \n",
      "2104383  66560.0       B       C     NaN           NaN     NaN  6.003900e-07   \n",
      "\n",
      "         XR_QUAL  IS_TMFI  Multiple_Values_in_Selected_Columns  \n",
      "844877        12     True                                 True  \n",
      "2001386       12     True                                 True  \n",
      "2104383       12    False                                 True  \n",
      "\n",
      "[3 rows x 44 columns]\n"
     ]
    }
   ],
   "source": [
    "import pandas as pd\n",
    "\n",
    "\n",
    "# Check for rows where both columns have a value\n",
    "both_have_value = df_cleaned[df_cleaned['CFLARE'].notna() & df_cleaned['BFLARE'].notna()]\n",
    "\n",
    "print(\"Rows where both columns have values:\")\n",
    "print(both_have_value)\n"
   ]
  },
  {
   "cell_type": "code",
   "execution_count": 20,
   "id": "a226a7b1-3c1f-4274-90c2-2f47b330b2ca",
   "metadata": {},
   "outputs": [
    {
     "name": "stdout",
     "output_type": "stream",
     "text": [
      "DataFrame with True Rows Only (Hiding False):\n",
      "        BFLARE CFLARE MFLARE XFLARE  Multiple_Values_in_Selected_Columns\n",
      "844877       B      C    NaN    NaN                                 True\n",
      "2001386      B      C    NaN    NaN                                 True\n",
      "2104383      B      C    NaN    NaN                                 True\n",
      "2365536    NaN      C      M    NaN                                 True\n"
     ]
    }
   ],
   "source": [
    "import pandas as pd\n",
    "\n",
    "## Sample DataFrame\n",
    "#data = {\n",
    "#    'B': [None, 2, None, 4],\n",
    "#    'C': [None, 2, None, 4],\n",
    "#    'M': [None, 8, None, None],\n",
    "#    'X': [9, None, 1, 4],\n",
    "#    'A': [1, 2, 3, 4],  # Extra columns\n",
    "#    'Y': [10, 20, 30, 40]  # Extra columns\n",
    "#}\n",
    "#df = pd.DataFrame(data)\n",
    "\n",
    "# Check if there is more than one value in the selected columns (B, C, M, X)\n",
    "def check_multiple_values_in_selected_columns(row):\n",
    "    # Count how many values are non-NaN (filled) in the selected columns\n",
    "    selected_columns = ['BFLARE', 'CFLARE', 'MFLARE', 'XFLARE']\n",
    "    non_nan_count = sum(pd.notna(row[selected_columns]))\n",
    "    return non_nan_count > 1  # Return True if more than 1 value is present\n",
    "\n",
    "# Apply the check across the rows and assign it to a new column\n",
    "df_cleaned['Multiple_Values_in_Selected_Columns'] = df_cleaned.apply(check_multiple_values_in_selected_columns, axis=1)\n",
    "\n",
    "# Filter the DataFrame to show only rows where Multiple_Values_in_Selected_Columns is True\n",
    "filtered_df = df_cleaned[df_cleaned['Multiple_Values_in_Selected_Columns']]\n",
    "\n",
    "# Print the filtered DataFrame with the new column for True/False\n",
    "print(\"DataFrame with True Rows Only (Hiding False):\")\n",
    "print(filtered_df[['BFLARE', 'CFLARE', 'MFLARE', 'XFLARE', 'Multiple_Values_in_Selected_Columns']])\n"
   ]
  },
  {
   "cell_type": "code",
   "execution_count": null,
   "id": "88bc7793-7c65-4fa3-8f04-016f46e34428",
   "metadata": {},
   "outputs": [],
   "source": []
  }
 ],
 "metadata": {
  "kernelspec": {
   "display_name": "Python 3 (ipykernel)",
   "language": "python",
   "name": "python3"
  },
  "language_info": {
   "codemirror_mode": {
    "name": "ipython",
    "version": 3
   },
   "file_extension": ".py",
   "mimetype": "text/x-python",
   "name": "python",
   "nbconvert_exporter": "python",
   "pygments_lexer": "ipython3",
   "version": "3.12.4"
  }
 },
 "nbformat": 4,
 "nbformat_minor": 5
}
